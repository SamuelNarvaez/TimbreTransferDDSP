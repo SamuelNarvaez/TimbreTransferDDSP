{
 "cells": [
  {
   "cell_type": "code",
   "execution_count": 5,
   "metadata": {},
   "outputs": [
    {
     "name": "stdout",
     "output_type": "stream",
     "text": [
      "Python 3.8.5\r\n"
     ]
    }
   ],
   "source": [
    "!python --version"
   ]
  },
  {
   "cell_type": "code",
   "execution_count": 2,
   "metadata": {},
   "outputs": [
    {
     "name": "stdout",
     "output_type": "stream",
     "text": [
      "Looking in indexes: https://pypi.org/simple, https://packagecloud.io/github/git-lfs/pypi/simple\n",
      "Requirement already up-to-date: ddsp in /Users/samuelnarvaez/opt/anaconda3/lib/python3.8/site-packages (1.3.0)\n",
      "Requirement already satisfied, skipping upgrade: future in /Users/samuelnarvaez/opt/anaconda3/lib/python3.8/site-packages (from ddsp) (0.18.2)\n",
      "Requirement already satisfied, skipping upgrade: absl-py in /Users/samuelnarvaez/opt/anaconda3/lib/python3.8/site-packages (from ddsp) (0.12.0)\n",
      "Requirement already satisfied, skipping upgrade: tensorflow-probability in /Users/samuelnarvaez/opt/anaconda3/lib/python3.8/site-packages (from ddsp) (0.12.2)\n",
      "Requirement already satisfied, skipping upgrade: tfds-nightly in /Users/samuelnarvaez/opt/anaconda3/lib/python3.8/site-packages (from ddsp) (4.2.0.dev202104190107)\n",
      "Requirement already satisfied, skipping upgrade: note-seq in /Users/samuelnarvaez/opt/anaconda3/lib/python3.8/site-packages (from ddsp) (0.0.3)\n",
      "Requirement already satisfied, skipping upgrade: numpy in /Users/samuelnarvaez/opt/anaconda3/lib/python3.8/site-packages (from ddsp) (1.19.2)\n",
      "Requirement already satisfied, skipping upgrade: librosa in /Users/samuelnarvaez/opt/anaconda3/lib/python3.8/site-packages (from ddsp) (0.8.0)\n",
      "Requirement already satisfied, skipping upgrade: pydub in /Users/samuelnarvaez/opt/anaconda3/lib/python3.8/site-packages (from ddsp) (0.25.1)\n",
      "Requirement already satisfied, skipping upgrade: scipy in /Users/samuelnarvaez/opt/anaconda3/lib/python3.8/site-packages (from ddsp) (1.5.2)\n",
      "Requirement already satisfied, skipping upgrade: tensorflow in /Users/samuelnarvaez/opt/anaconda3/lib/python3.8/site-packages (from ddsp) (2.4.1)\n",
      "Requirement already satisfied, skipping upgrade: mir-eval in /Users/samuelnarvaez/opt/anaconda3/lib/python3.8/site-packages (from ddsp) (0.6)\n",
      "Requirement already satisfied, skipping upgrade: numba<0.50 in /Users/samuelnarvaez/opt/anaconda3/lib/python3.8/site-packages (from ddsp) (0.49.1)\n",
      "Requirement already satisfied, skipping upgrade: google-cloud-storage in /Users/samuelnarvaez/opt/anaconda3/lib/python3.8/site-packages (from ddsp) (1.37.1)\n",
      "Requirement already satisfied, skipping upgrade: tensorflow-addons in /Users/samuelnarvaez/opt/anaconda3/lib/python3.8/site-packages (from ddsp) (0.12.1)\n",
      "Requirement already satisfied, skipping upgrade: gin-config>=0.3.0 in /Users/samuelnarvaez/opt/anaconda3/lib/python3.8/site-packages (from ddsp) (0.4.0)\n",
      "Requirement already satisfied, skipping upgrade: crepe>=0.0.11 in /Users/samuelnarvaez/opt/anaconda3/lib/python3.8/site-packages (from ddsp) (0.0.11)\n",
      "Requirement already satisfied, skipping upgrade: tensorflowjs in /Users/samuelnarvaez/opt/anaconda3/lib/python3.8/site-packages (from ddsp) (3.4.0)\n",
      "Requirement already satisfied, skipping upgrade: cloudml-hypertune in /Users/samuelnarvaez/opt/anaconda3/lib/python3.8/site-packages (from ddsp) (0.1.0.dev6)\n",
      "Requirement already satisfied, skipping upgrade: six in /Users/samuelnarvaez/opt/anaconda3/lib/python3.8/site-packages (from ddsp) (1.15.0)\n",
      "Requirement already satisfied, skipping upgrade: dm-tree in /Users/samuelnarvaez/opt/anaconda3/lib/python3.8/site-packages (from tensorflow-probability->ddsp) (0.1.6)\n",
      "Requirement already satisfied, skipping upgrade: cloudpickle>=1.3 in /Users/samuelnarvaez/opt/anaconda3/lib/python3.8/site-packages (from tensorflow-probability->ddsp) (1.6.0)\n",
      "Requirement already satisfied, skipping upgrade: decorator in /Users/samuelnarvaez/opt/anaconda3/lib/python3.8/site-packages (from tensorflow-probability->ddsp) (4.4.2)\n",
      "Requirement already satisfied, skipping upgrade: gast>=0.3.2 in /Users/samuelnarvaez/opt/anaconda3/lib/python3.8/site-packages (from tensorflow-probability->ddsp) (0.3.3)\n",
      "Requirement already satisfied, skipping upgrade: tqdm in /Users/samuelnarvaez/opt/anaconda3/lib/python3.8/site-packages (from tfds-nightly->ddsp) (4.50.2)\n",
      "Requirement already satisfied, skipping upgrade: attrs>=18.1.0 in /Users/samuelnarvaez/opt/anaconda3/lib/python3.8/site-packages (from tfds-nightly->ddsp) (20.3.0)\n",
      "Requirement already satisfied, skipping upgrade: requests>=2.19.0 in /Users/samuelnarvaez/opt/anaconda3/lib/python3.8/site-packages (from tfds-nightly->ddsp) (2.24.0)\n",
      "Requirement already satisfied, skipping upgrade: tensorflow-metadata in /Users/samuelnarvaez/opt/anaconda3/lib/python3.8/site-packages (from tfds-nightly->ddsp) (0.29.0)\n",
      "Requirement already satisfied, skipping upgrade: promise in /Users/samuelnarvaez/opt/anaconda3/lib/python3.8/site-packages (from tfds-nightly->ddsp) (2.3)\n",
      "Requirement already satisfied, skipping upgrade: importlib-resources; python_version < \"3.9\" in /Users/samuelnarvaez/opt/anaconda3/lib/python3.8/site-packages (from tfds-nightly->ddsp) (5.1.2)\n",
      "Requirement already satisfied, skipping upgrade: termcolor in /Users/samuelnarvaez/opt/anaconda3/lib/python3.8/site-packages (from tfds-nightly->ddsp) (1.1.0)\n",
      "Requirement already satisfied, skipping upgrade: dill in /Users/samuelnarvaez/opt/anaconda3/lib/python3.8/site-packages (from tfds-nightly->ddsp) (0.3.1.1)\n",
      "Requirement already satisfied, skipping upgrade: protobuf>=3.12.2 in /Users/samuelnarvaez/opt/anaconda3/lib/python3.8/site-packages (from tfds-nightly->ddsp) (3.15.8)\n",
      "Requirement already satisfied, skipping upgrade: bokeh>=0.12.0 in /Users/samuelnarvaez/opt/anaconda3/lib/python3.8/site-packages (from note-seq->ddsp) (2.2.3)\n",
      "Requirement already satisfied, skipping upgrade: IPython in /Users/samuelnarvaez/opt/anaconda3/lib/python3.8/site-packages (from note-seq->ddsp) (7.19.0)\n",
      "Requirement already satisfied, skipping upgrade: pretty-midi>=0.2.6 in /Users/samuelnarvaez/opt/anaconda3/lib/python3.8/site-packages (from note-seq->ddsp) (0.2.9)\n",
      "Requirement already satisfied, skipping upgrade: intervaltree>=2.1.0 in /Users/samuelnarvaez/opt/anaconda3/lib/python3.8/site-packages (from note-seq->ddsp) (3.1.0)\n",
      "Requirement already satisfied, skipping upgrade: pandas>=0.18.1 in /Users/samuelnarvaez/opt/anaconda3/lib/python3.8/site-packages (from note-seq->ddsp) (1.1.3)\n",
      "Requirement already satisfied, skipping upgrade: scikit-learn!=0.19.0,>=0.14.0 in /Users/samuelnarvaez/opt/anaconda3/lib/python3.8/site-packages (from librosa->ddsp) (0.23.2)\n",
      "Requirement already satisfied, skipping upgrade: pooch>=1.0 in /Users/samuelnarvaez/opt/anaconda3/lib/python3.8/site-packages (from librosa->ddsp) (1.3.0)\n",
      "Requirement already satisfied, skipping upgrade: joblib>=0.14 in /Users/samuelnarvaez/opt/anaconda3/lib/python3.8/site-packages (from librosa->ddsp) (0.17.0)\n",
      "Requirement already satisfied, skipping upgrade: audioread>=2.0.0 in /Users/samuelnarvaez/opt/anaconda3/lib/python3.8/site-packages (from librosa->ddsp) (2.1.9)\n",
      "Requirement already satisfied, skipping upgrade: soundfile>=0.9.0 in /Users/samuelnarvaez/opt/anaconda3/lib/python3.8/site-packages (from librosa->ddsp) (0.10.3.post1)\n",
      "Requirement already satisfied, skipping upgrade: resampy>=0.2.2 in /Users/samuelnarvaez/opt/anaconda3/lib/python3.8/site-packages (from librosa->ddsp) (0.2.2)\n",
      "Requirement already satisfied, skipping upgrade: grpcio~=1.32.0 in /Users/samuelnarvaez/opt/anaconda3/lib/python3.8/site-packages (from tensorflow->ddsp) (1.32.0)\n",
      "Requirement already satisfied, skipping upgrade: wheel~=0.35 in /Users/samuelnarvaez/opt/anaconda3/lib/python3.8/site-packages (from tensorflow->ddsp) (0.35.1)\n",
      "Requirement already satisfied, skipping upgrade: keras-preprocessing~=1.1.2 in /Users/samuelnarvaez/opt/anaconda3/lib/python3.8/site-packages (from tensorflow->ddsp) (1.1.2)\n",
      "Requirement already satisfied, skipping upgrade: flatbuffers~=1.12.0 in /Users/samuelnarvaez/opt/anaconda3/lib/python3.8/site-packages (from tensorflow->ddsp) (1.12)\n",
      "Requirement already satisfied, skipping upgrade: astunparse~=1.6.3 in /Users/samuelnarvaez/opt/anaconda3/lib/python3.8/site-packages (from tensorflow->ddsp) (1.6.3)\n",
      "Requirement already satisfied, skipping upgrade: typing-extensions~=3.7.4 in /Users/samuelnarvaez/opt/anaconda3/lib/python3.8/site-packages (from tensorflow->ddsp) (3.7.4.3)\n",
      "Requirement already satisfied, skipping upgrade: tensorflow-estimator<2.5.0,>=2.4.0 in /Users/samuelnarvaez/opt/anaconda3/lib/python3.8/site-packages (from tensorflow->ddsp) (2.4.0)\n",
      "Requirement already satisfied, skipping upgrade: tensorboard~=2.4 in /Users/samuelnarvaez/opt/anaconda3/lib/python3.8/site-packages (from tensorflow->ddsp) (2.5.0)\n",
      "Requirement already satisfied, skipping upgrade: google-pasta~=0.2 in /Users/samuelnarvaez/opt/anaconda3/lib/python3.8/site-packages (from tensorflow->ddsp) (0.2.0)\n",
      "Requirement already satisfied, skipping upgrade: wrapt~=1.12.1 in /Users/samuelnarvaez/opt/anaconda3/lib/python3.8/site-packages (from tensorflow->ddsp) (1.12.1)\n",
      "Requirement already satisfied, skipping upgrade: h5py~=2.10.0 in /Users/samuelnarvaez/opt/anaconda3/lib/python3.8/site-packages (from tensorflow->ddsp) (2.10.0)\n",
      "Requirement already satisfied, skipping upgrade: opt-einsum~=3.3.0 in /Users/samuelnarvaez/opt/anaconda3/lib/python3.8/site-packages (from tensorflow->ddsp) (3.3.0)\n",
      "Requirement already satisfied, skipping upgrade: llvmlite<=0.33.0.dev0,>=0.31.0.dev0 in /Users/samuelnarvaez/opt/anaconda3/lib/python3.8/site-packages (from numba<0.50->ddsp) (0.32.1)\n",
      "Requirement already satisfied, skipping upgrade: setuptools in /Users/samuelnarvaez/opt/anaconda3/lib/python3.8/site-packages (from numba<0.50->ddsp) (50.3.1.post20201107)\n"
     ]
    },
    {
     "name": "stdout",
     "output_type": "stream",
     "text": [
      "Requirement already satisfied, skipping upgrade: google-cloud-core<2.0dev,>=1.4.1 in /Users/samuelnarvaez/opt/anaconda3/lib/python3.8/site-packages (from google-cloud-storage->ddsp) (1.6.0)\n",
      "Requirement already satisfied, skipping upgrade: google-resumable-media<2.0dev,>=1.2.0 in /Users/samuelnarvaez/opt/anaconda3/lib/python3.8/site-packages (from google-cloud-storage->ddsp) (1.2.0)\n",
      "Requirement already satisfied, skipping upgrade: google-auth<2.0dev,>=1.11.0 in /Users/samuelnarvaez/opt/anaconda3/lib/python3.8/site-packages (from google-cloud-storage->ddsp) (1.29.0)\n",
      "Requirement already satisfied, skipping upgrade: typeguard>=2.7 in /Users/samuelnarvaez/opt/anaconda3/lib/python3.8/site-packages (from tensorflow-addons->ddsp) (2.12.0)\n",
      "Requirement already satisfied, skipping upgrade: hmmlearn<0.3.0,>=0.2.0 in /Users/samuelnarvaez/opt/anaconda3/lib/python3.8/site-packages (from crepe>=0.0.11->ddsp) (0.2.5)\n",
      "Requirement already satisfied, skipping upgrade: imageio>=2.3.0 in /Users/samuelnarvaez/opt/anaconda3/lib/python3.8/site-packages (from crepe>=0.0.11->ddsp) (2.9.0)\n",
      "Requirement already satisfied, skipping upgrade: matplotlib>=2.1.0 in /Users/samuelnarvaez/opt/anaconda3/lib/python3.8/site-packages (from crepe>=0.0.11->ddsp) (3.3.2)\n",
      "Requirement already satisfied, skipping upgrade: tensorflow-hub<0.10,>=0.7.0 in /Users/samuelnarvaez/opt/anaconda3/lib/python3.8/site-packages (from tensorflowjs->ddsp) (0.9.0)\n",
      "Requirement already satisfied, skipping upgrade: urllib3!=1.25.0,!=1.25.1,<1.26,>=1.21.1 in /Users/samuelnarvaez/opt/anaconda3/lib/python3.8/site-packages (from requests>=2.19.0->tfds-nightly->ddsp) (1.25.11)\n",
      "Requirement already satisfied, skipping upgrade: idna<3,>=2.5 in /Users/samuelnarvaez/opt/anaconda3/lib/python3.8/site-packages (from requests>=2.19.0->tfds-nightly->ddsp) (2.10)\n",
      "Requirement already satisfied, skipping upgrade: chardet<4,>=3.0.2 in /Users/samuelnarvaez/opt/anaconda3/lib/python3.8/site-packages (from requests>=2.19.0->tfds-nightly->ddsp) (3.0.4)\n",
      "Requirement already satisfied, skipping upgrade: certifi>=2017.4.17 in /Users/samuelnarvaez/opt/anaconda3/lib/python3.8/site-packages (from requests>=2.19.0->tfds-nightly->ddsp) (2020.6.20)\n",
      "Requirement already satisfied, skipping upgrade: googleapis-common-protos<2,>=1.52.0 in /Users/samuelnarvaez/opt/anaconda3/lib/python3.8/site-packages (from tensorflow-metadata->tfds-nightly->ddsp) (1.53.0)\n",
      "Requirement already satisfied, skipping upgrade: packaging>=16.8 in /Users/samuelnarvaez/opt/anaconda3/lib/python3.8/site-packages (from bokeh>=0.12.0->note-seq->ddsp) (20.4)\n",
      "Requirement already satisfied, skipping upgrade: tornado>=5.1 in /Users/samuelnarvaez/opt/anaconda3/lib/python3.8/site-packages (from bokeh>=0.12.0->note-seq->ddsp) (6.0.4)\n",
      "Requirement already satisfied, skipping upgrade: Jinja2>=2.7 in /Users/samuelnarvaez/opt/anaconda3/lib/python3.8/site-packages (from bokeh>=0.12.0->note-seq->ddsp) (2.11.2)\n",
      "Requirement already satisfied, skipping upgrade: PyYAML>=3.10 in /Users/samuelnarvaez/opt/anaconda3/lib/python3.8/site-packages (from bokeh>=0.12.0->note-seq->ddsp) (5.3.1)\n",
      "Requirement already satisfied, skipping upgrade: python-dateutil>=2.1 in /Users/samuelnarvaez/opt/anaconda3/lib/python3.8/site-packages (from bokeh>=0.12.0->note-seq->ddsp) (2.8.1)\n",
      "Requirement already satisfied, skipping upgrade: pillow>=7.1.0 in /Users/samuelnarvaez/opt/anaconda3/lib/python3.8/site-packages (from bokeh>=0.12.0->note-seq->ddsp) (8.0.1)\n",
      "Requirement already satisfied, skipping upgrade: pickleshare in /Users/samuelnarvaez/opt/anaconda3/lib/python3.8/site-packages (from IPython->note-seq->ddsp) (0.7.5)\n",
      "Requirement already satisfied, skipping upgrade: prompt-toolkit!=3.0.0,!=3.0.1,<3.1.0,>=2.0.0 in /Users/samuelnarvaez/opt/anaconda3/lib/python3.8/site-packages (from IPython->note-seq->ddsp) (3.0.8)\n",
      "Requirement already satisfied, skipping upgrade: jedi>=0.10 in /Users/samuelnarvaez/opt/anaconda3/lib/python3.8/site-packages (from IPython->note-seq->ddsp) (0.17.1)\n",
      "Requirement already satisfied, skipping upgrade: pygments in /Users/samuelnarvaez/opt/anaconda3/lib/python3.8/site-packages (from IPython->note-seq->ddsp) (2.7.2)\n",
      "Requirement already satisfied, skipping upgrade: backcall in /Users/samuelnarvaez/opt/anaconda3/lib/python3.8/site-packages (from IPython->note-seq->ddsp) (0.2.0)\n",
      "Requirement already satisfied, skipping upgrade: pexpect>4.3; sys_platform != \"win32\" in /Users/samuelnarvaez/opt/anaconda3/lib/python3.8/site-packages (from IPython->note-seq->ddsp) (4.8.0)\n",
      "Requirement already satisfied, skipping upgrade: traitlets>=4.2 in /Users/samuelnarvaez/opt/anaconda3/lib/python3.8/site-packages (from IPython->note-seq->ddsp) (5.0.5)\n",
      "Requirement already satisfied, skipping upgrade: appnope; sys_platform == \"darwin\" in /Users/samuelnarvaez/opt/anaconda3/lib/python3.8/site-packages (from IPython->note-seq->ddsp) (0.1.0)\n",
      "Requirement already satisfied, skipping upgrade: mido>=1.1.16 in /Users/samuelnarvaez/opt/anaconda3/lib/python3.8/site-packages (from pretty-midi>=0.2.6->note-seq->ddsp) (1.2.9)\n",
      "Requirement already satisfied, skipping upgrade: sortedcontainers<3.0,>=2.0 in /Users/samuelnarvaez/opt/anaconda3/lib/python3.8/site-packages (from intervaltree>=2.1.0->note-seq->ddsp) (2.2.2)\n",
      "Requirement already satisfied, skipping upgrade: pytz>=2017.2 in /Users/samuelnarvaez/opt/anaconda3/lib/python3.8/site-packages (from pandas>=0.18.1->note-seq->ddsp) (2020.1)\n",
      "Requirement already satisfied, skipping upgrade: threadpoolctl>=2.0.0 in /Users/samuelnarvaez/opt/anaconda3/lib/python3.8/site-packages (from scikit-learn!=0.19.0,>=0.14.0->librosa->ddsp) (2.1.0)\n",
      "Requirement already satisfied, skipping upgrade: appdirs in /Users/samuelnarvaez/opt/anaconda3/lib/python3.8/site-packages (from pooch>=1.0->librosa->ddsp) (1.4.4)\n",
      "Requirement already satisfied, skipping upgrade: cffi>=1.0 in /Users/samuelnarvaez/opt/anaconda3/lib/python3.8/site-packages (from soundfile>=0.9.0->librosa->ddsp) (1.14.3)\n",
      "Requirement already satisfied, skipping upgrade: markdown>=2.6.8 in /Users/samuelnarvaez/opt/anaconda3/lib/python3.8/site-packages (from tensorboard~=2.4->tensorflow->ddsp) (3.3.4)\n",
      "Requirement already satisfied, skipping upgrade: tensorboard-plugin-wit>=1.6.0 in /Users/samuelnarvaez/opt/anaconda3/lib/python3.8/site-packages (from tensorboard~=2.4->tensorflow->ddsp) (1.8.0)\n",
      "Requirement already satisfied, skipping upgrade: google-auth-oauthlib<0.5,>=0.4.1 in /Users/samuelnarvaez/opt/anaconda3/lib/python3.8/site-packages (from tensorboard~=2.4->tensorflow->ddsp) (0.4.4)\n",
      "Requirement already satisfied, skipping upgrade: tensorboard-data-server<0.7.0,>=0.6.0 in /Users/samuelnarvaez/opt/anaconda3/lib/python3.8/site-packages (from tensorboard~=2.4->tensorflow->ddsp) (0.6.0)\n",
      "Requirement already satisfied, skipping upgrade: werkzeug>=0.11.15 in /Users/samuelnarvaez/opt/anaconda3/lib/python3.8/site-packages (from tensorboard~=2.4->tensorflow->ddsp) (1.0.1)\n",
      "Requirement already satisfied, skipping upgrade: google-api-core<2.0.0dev,>=1.21.0 in /Users/samuelnarvaez/opt/anaconda3/lib/python3.8/site-packages (from google-cloud-core<2.0dev,>=1.4.1->google-cloud-storage->ddsp) (1.26.3)\n",
      "Requirement already satisfied, skipping upgrade: google-crc32c<2.0dev,>=1.0; python_version >= \"3.5\" in /Users/samuelnarvaez/opt/anaconda3/lib/python3.8/site-packages (from google-resumable-media<2.0dev,>=1.2.0->google-cloud-storage->ddsp) (1.1.2)\n",
      "Requirement already satisfied, skipping upgrade: rsa<5,>=3.1.4; python_version >= \"3.6\" in /Users/samuelnarvaez/opt/anaconda3/lib/python3.8/site-packages (from google-auth<2.0dev,>=1.11.0->google-cloud-storage->ddsp) (4.7.2)\n",
      "Requirement already satisfied, skipping upgrade: pyasn1-modules>=0.2.1 in /Users/samuelnarvaez/opt/anaconda3/lib/python3.8/site-packages (from google-auth<2.0dev,>=1.11.0->google-cloud-storage->ddsp) (0.2.8)\n",
      "Requirement already satisfied, skipping upgrade: cachetools<5.0,>=2.0.0 in /Users/samuelnarvaez/opt/anaconda3/lib/python3.8/site-packages (from google-auth<2.0dev,>=1.11.0->google-cloud-storage->ddsp) (4.2.1)\n",
      "Requirement already satisfied, skipping upgrade: pyparsing!=2.0.4,!=2.1.2,!=2.1.6,>=2.0.3 in /Users/samuelnarvaez/opt/anaconda3/lib/python3.8/site-packages (from matplotlib>=2.1.0->crepe>=0.0.11->ddsp) (2.4.7)\n",
      "Requirement already satisfied, skipping upgrade: cycler>=0.10 in /Users/samuelnarvaez/opt/anaconda3/lib/python3.8/site-packages (from matplotlib>=2.1.0->crepe>=0.0.11->ddsp) (0.10.0)\n",
      "Requirement already satisfied, skipping upgrade: kiwisolver>=1.0.1 in /Users/samuelnarvaez/opt/anaconda3/lib/python3.8/site-packages (from matplotlib>=2.1.0->crepe>=0.0.11->ddsp) (1.3.0)\n",
      "Requirement already satisfied, skipping upgrade: MarkupSafe>=0.23 in /Users/samuelnarvaez/opt/anaconda3/lib/python3.8/site-packages (from Jinja2>=2.7->bokeh>=0.12.0->note-seq->ddsp) (1.1.1)\n",
      "Requirement already satisfied, skipping upgrade: wcwidth in /Users/samuelnarvaez/opt/anaconda3/lib/python3.8/site-packages (from prompt-toolkit!=3.0.0,!=3.0.1,<3.1.0,>=2.0.0->IPython->note-seq->ddsp) (0.2.5)\n",
      "Requirement already satisfied, skipping upgrade: parso<0.8.0,>=0.7.0 in /Users/samuelnarvaez/opt/anaconda3/lib/python3.8/site-packages (from jedi>=0.10->IPython->note-seq->ddsp) (0.7.0)\n"
     ]
    },
    {
     "name": "stdout",
     "output_type": "stream",
     "text": [
      "Requirement already satisfied, skipping upgrade: ptyprocess>=0.5 in /Users/samuelnarvaez/opt/anaconda3/lib/python3.8/site-packages (from pexpect>4.3; sys_platform != \"win32\"->IPython->note-seq->ddsp) (0.6.0)\r\n",
      "Requirement already satisfied, skipping upgrade: ipython-genutils in /Users/samuelnarvaez/opt/anaconda3/lib/python3.8/site-packages (from traitlets>=4.2->IPython->note-seq->ddsp) (0.2.0)\r\n",
      "Requirement already satisfied, skipping upgrade: pycparser in /Users/samuelnarvaez/opt/anaconda3/lib/python3.8/site-packages (from cffi>=1.0->soundfile>=0.9.0->librosa->ddsp) (2.20)\r\n",
      "Requirement already satisfied, skipping upgrade: requests-oauthlib>=0.7.0 in /Users/samuelnarvaez/opt/anaconda3/lib/python3.8/site-packages (from google-auth-oauthlib<0.5,>=0.4.1->tensorboard~=2.4->tensorflow->ddsp) (1.3.0)\r\n",
      "Requirement already satisfied, skipping upgrade: pyasn1>=0.1.3 in /Users/samuelnarvaez/opt/anaconda3/lib/python3.8/site-packages (from rsa<5,>=3.1.4; python_version >= \"3.6\"->google-auth<2.0dev,>=1.11.0->google-cloud-storage->ddsp) (0.4.8)\r\n",
      "Requirement already satisfied, skipping upgrade: oauthlib>=3.0.0 in /Users/samuelnarvaez/opt/anaconda3/lib/python3.8/site-packages (from requests-oauthlib>=0.7.0->google-auth-oauthlib<0.5,>=0.4.1->tensorboard~=2.4->tensorflow->ddsp) (3.1.0)\r\n"
     ]
    }
   ],
   "source": [
    "!pip install --upgrade ddsp"
   ]
  },
  {
   "cell_type": "code",
   "execution_count": 8,
   "metadata": {},
   "outputs": [
    {
     "name": "stdout",
     "output_type": "stream",
     "text": [
      "WARNING:tensorflow:There are non-GPU devices in `tf.distribute.Strategy`, not using nccl allreduce.\n"
     ]
    },
    {
     "name": "stderr",
     "output_type": "stream",
     "text": [
      "WARNING:tensorflow:There are non-GPU devices in `tf.distribute.Strategy`, not using nccl allreduce.\n"
     ]
    },
    {
     "name": "stdout",
     "output_type": "stream",
     "text": [
      "INFO:tensorflow:Using MirroredStrategy with devices ('/job:localhost/replica:0/task:0/device:CPU:0',)\n"
     ]
    },
    {
     "name": "stderr",
     "output_type": "stream",
     "text": [
      "INFO:tensorflow:Using MirroredStrategy with devices ('/job:localhost/replica:0/task:0/device:CPU:0',)\n"
     ]
    }
   ],
   "source": [
    "import warnings\n",
    "warnings.filterwarnings(\"ignore\")\n",
    "\n",
    "import time\n",
    "\n",
    "import ddsp\n",
    "from ddsp.training import (data, decoders, encoders, models, preprocessing, \n",
    "                           train_util, trainers)\n",
    "import gin\n",
    "import matplotlib.pyplot as plt\n",
    "import numpy as np\n",
    "import tensorflow.compat.v2 as tf\n",
    "import tensorflow_datasets as tfds\n",
    "\n",
    "sample_rate = 16000\n",
    "TIME_STEPS = 1000\n",
    "\n",
    "strategy = train_util.get_strategy()\n",
    "\n",
    "data_provider = data.TFRecordProvider(file_pattern='data/train.tfrecord*',\n",
    "               example_secs=4,\n",
    "               sample_rate=16000,\n",
    "               frame_rate=250)\n",
    "dataset = data_provider.get_batch(batch_size=1, shuffle=False).take(1).repeat()\n",
    "batch = next(iter(dataset))\n",
    "audio = batch['audio']\n",
    "n_samples = audio.shape[1]\n",
    "\n",
    "# Create Neural Networks.\n",
    "preprocessor = preprocessing.F0LoudnessPreprocessor(time_steps=TIME_STEPS)\n",
    "\n",
    "encoder = encoders.MfccTimeDistributedRnnEncoder(rnn_channels = 512,\n",
    "                                                    rnn_type = 'gru',\n",
    "                                                    z_dims = 16,\n",
    "                                                    z_time_steps = 125)\n",
    "\n",
    "decoder = decoders.RnnFcDecoder(rnn_channels = 512,\n",
    "                                rnn_type = 'gru',\n",
    "                                ch = 512,\n",
    "                                layers_per_stack = 3,\n",
    "                                input_keys = ('ld_scaled', 'f0_scaled', 'z'),\n",
    "                                output_splits = (('amps', 1),\n",
    "                                                  ('harmonic_distribution', 100),\n",
    "                                                  ('noise_magnitudes', 65)))\n",
    "\n",
    "# Create Processors.\n",
    "harmonic = ddsp.synths.Harmonic(n_samples=n_samples, \n",
    "                                sample_rate=sample_rate,\n",
    "                                name='harmonic')\n",
    "\n",
    "noise = ddsp.synths.FilteredNoise(window_size=0,\n",
    "                                  initial_bias=-10.0,\n",
    "                                  name='noise')\n",
    "add = ddsp.processors.Add(name='add')\n",
    "\n",
    "# Create ProcessorGroup.\n",
    "dag = [(harmonic, ['amps', 'harmonic_distribution', 'f0_hz']),\n",
    "       (noise, ['noise_magnitudes']),\n",
    "       (add, ['noise/signal', 'harmonic/signal'])]\n",
    "\n",
    "processor_group = ddsp.processors.ProcessorGroup(dag=dag,\n",
    "                                                 name='processor_group')\n",
    "\n",
    "\n",
    "# Loss_functions\n",
    "spectral_loss = ddsp.losses.SpectralLoss(loss_type='L1',\n",
    "                                         mag_weight=1.0,\n",
    "                                         logmag_weight=1.0)\n",
    "\n",
    "with strategy.scope():\n",
    "  # Put it together in a model.\n",
    "  model = models.Autoencoder(preprocessor=preprocessor,\n",
    "                             encoder=encoder,\n",
    "                             decoder=decoder,\n",
    "                             processor_group=processor_group,\n",
    "                             losses=[spectral_loss])\n",
    "  trainer = trainers.Trainer(model, strategy, learning_rate=1e-3)"
   ]
  },
  {
   "cell_type": "code",
   "execution_count": 9,
   "metadata": {},
   "outputs": [
    {
     "name": "stdout",
     "output_type": "stream",
     "text": [
      "Model: \"autoencoder_1\"\n",
      "_________________________________________________________________\n",
      "Layer (type)                 Output Shape              Param #   \n",
      "=================================================================\n",
      "f0_loudness_preprocessor_1 ( multiple                  0         \n",
      "_________________________________________________________________\n",
      "mfcc_time_distributed_rnn_en multiple                  843852    \n",
      "_________________________________________________________________\n",
      "rnn_fc_decoder_1 (RnnFcDecod multiple                  6407334   \n",
      "_________________________________________________________________\n",
      "processor_group (ProcessorGr multiple                  0         \n",
      "_________________________________________________________________\n",
      "spectral_loss (SpectralLoss) multiple                  0         \n",
      "=================================================================\n",
      "Total params: 7,251,186\n",
      "Trainable params: 7,251,186\n",
      "Non-trainable params: 0\n",
      "_________________________________________________________________\n"
     ]
    }
   ],
   "source": [
    "# Build model, easiest to just run forward pass.\n",
    "dataset = trainer.distribute_dataset(dataset)\n",
    "trainer.build(next(iter(dataset)))"
   ]
  },
  {
   "cell_type": "code",
   "execution_count": 6,
   "metadata": {},
   "outputs": [
    {
     "name": "stdout",
     "output_type": "stream",
     "text": [
      "step: 0\tspectral_loss: 17.58\ttotal_loss: 17.58\t\n",
      "step: 1\tspectral_loss: 31.94\ttotal_loss: 31.94\t\n",
      "step: 2\tspectral_loss: 31.03\ttotal_loss: 31.03\t\n",
      "step: 3\tspectral_loss: 29.89\ttotal_loss: 29.89\t\n",
      "step: 4\tspectral_loss: 28.77\ttotal_loss: 28.77\t\n",
      "step: 5\tspectral_loss: 27.08\ttotal_loss: 27.08\t\n",
      "step: 6\tspectral_loss: 23.50\ttotal_loss: 23.50\t\n",
      "step: 7\tspectral_loss: 16.46\ttotal_loss: 16.46\t\n",
      "step: 8\tspectral_loss: 17.60\ttotal_loss: 17.60\t\n",
      "step: 9\tspectral_loss: 21.80\ttotal_loss: 21.80\t\n",
      "step: 10\tspectral_loss: 21.77\ttotal_loss: 21.77\t\n",
      "step: 11\tspectral_loss: 19.12\ttotal_loss: 19.12\t\n",
      "step: 12\tspectral_loss: 16.14\ttotal_loss: 16.14\t\n",
      "step: 13\tspectral_loss: 14.76\ttotal_loss: 14.76\t\n",
      "step: 14\tspectral_loss: 15.24\ttotal_loss: 15.24\t\n",
      "step: 15\tspectral_loss: 15.69\ttotal_loss: 15.69\t\n",
      "step: 16\tspectral_loss: 15.45\ttotal_loss: 15.45\t\n",
      "step: 17\tspectral_loss: 14.70\ttotal_loss: 14.70\t\n",
      "step: 18\tspectral_loss: 13.93\ttotal_loss: 13.93\t\n",
      "step: 19\tspectral_loss: 13.84\ttotal_loss: 13.84\t\n",
      "step: 20\tspectral_loss: 14.20\ttotal_loss: 14.20\t\n",
      "step: 21\tspectral_loss: 14.22\ttotal_loss: 14.22\t\n",
      "step: 22\tspectral_loss: 13.83\ttotal_loss: 13.83\t\n",
      "step: 23\tspectral_loss: 13.36\ttotal_loss: 13.36\t\n",
      "step: 24\tspectral_loss: 13.22\ttotal_loss: 13.22\t\n",
      "step: 25\tspectral_loss: 13.27\ttotal_loss: 13.27\t\n",
      "step: 26\tspectral_loss: 13.19\ttotal_loss: 13.19\t\n",
      "step: 27\tspectral_loss: 13.01\ttotal_loss: 13.01\t\n",
      "step: 28\tspectral_loss: 12.97\ttotal_loss: 12.97\t\n",
      "step: 29\tspectral_loss: 13.02\ttotal_loss: 13.02\t\n",
      "step: 30\tspectral_loss: 12.95\ttotal_loss: 12.95\t\n",
      "step: 31\tspectral_loss: 12.87\ttotal_loss: 12.87\t\n",
      "step: 32\tspectral_loss: 12.88\ttotal_loss: 12.88\t\n",
      "step: 33\tspectral_loss: 12.87\ttotal_loss: 12.87\t\n",
      "step: 34\tspectral_loss: 12.82\ttotal_loss: 12.82\t\n",
      "step: 35\tspectral_loss: 12.85\ttotal_loss: 12.85\t\n",
      "step: 36\tspectral_loss: 12.86\ttotal_loss: 12.86\t\n",
      "step: 37\tspectral_loss: 12.76\ttotal_loss: 12.76\t\n"
     ]
    },
    {
     "ename": "KeyboardInterrupt",
     "evalue": "",
     "output_type": "error",
     "traceback": [
      "\u001b[0;31m---------------------------------------------------------------------------\u001b[0m",
      "\u001b[0;31mKeyboardInterrupt\u001b[0m                         Traceback (most recent call last)",
      "\u001b[0;32m<ipython-input-6-67a113d0001b>\u001b[0m in \u001b[0;36m<module>\u001b[0;34m\u001b[0m\n\u001b[1;32m      2\u001b[0m \u001b[0;34m\u001b[0m\u001b[0m\n\u001b[1;32m      3\u001b[0m \u001b[0;32mfor\u001b[0m \u001b[0mi\u001b[0m \u001b[0;32min\u001b[0m \u001b[0mrange\u001b[0m\u001b[0;34m(\u001b[0m\u001b[0;36m300\u001b[0m\u001b[0;34m)\u001b[0m\u001b[0;34m:\u001b[0m\u001b[0;34m\u001b[0m\u001b[0;34m\u001b[0m\u001b[0m\n\u001b[0;32m----> 4\u001b[0;31m   \u001b[0mlosses\u001b[0m \u001b[0;34m=\u001b[0m \u001b[0mtrainer\u001b[0m\u001b[0;34m.\u001b[0m\u001b[0mtrain_step\u001b[0m\u001b[0;34m(\u001b[0m\u001b[0mdataset_iter\u001b[0m\u001b[0;34m)\u001b[0m\u001b[0;34m\u001b[0m\u001b[0;34m\u001b[0m\u001b[0m\n\u001b[0m\u001b[1;32m      5\u001b[0m   \u001b[0mres_str\u001b[0m \u001b[0;34m=\u001b[0m \u001b[0;34m'step: {}\\t'\u001b[0m\u001b[0;34m.\u001b[0m\u001b[0mformat\u001b[0m\u001b[0;34m(\u001b[0m\u001b[0mi\u001b[0m\u001b[0;34m)\u001b[0m\u001b[0;34m\u001b[0m\u001b[0;34m\u001b[0m\u001b[0m\n\u001b[1;32m      6\u001b[0m   \u001b[0;32mfor\u001b[0m \u001b[0mk\u001b[0m\u001b[0;34m,\u001b[0m \u001b[0mv\u001b[0m \u001b[0;32min\u001b[0m \u001b[0mlosses\u001b[0m\u001b[0;34m.\u001b[0m\u001b[0mitems\u001b[0m\u001b[0;34m(\u001b[0m\u001b[0;34m)\u001b[0m\u001b[0;34m:\u001b[0m\u001b[0;34m\u001b[0m\u001b[0;34m\u001b[0m\u001b[0m\n",
      "\u001b[0;32m~/opt/anaconda3/lib/python3.8/site-packages/tensorflow/python/eager/def_function.py\u001b[0m in \u001b[0;36m__call__\u001b[0;34m(self, *args, **kwds)\u001b[0m\n\u001b[1;32m    826\u001b[0m     \u001b[0mtracing_count\u001b[0m \u001b[0;34m=\u001b[0m \u001b[0mself\u001b[0m\u001b[0;34m.\u001b[0m\u001b[0mexperimental_get_tracing_count\u001b[0m\u001b[0;34m(\u001b[0m\u001b[0;34m)\u001b[0m\u001b[0;34m\u001b[0m\u001b[0;34m\u001b[0m\u001b[0m\n\u001b[1;32m    827\u001b[0m     \u001b[0;32mwith\u001b[0m \u001b[0mtrace\u001b[0m\u001b[0;34m.\u001b[0m\u001b[0mTrace\u001b[0m\u001b[0;34m(\u001b[0m\u001b[0mself\u001b[0m\u001b[0;34m.\u001b[0m\u001b[0m_name\u001b[0m\u001b[0;34m)\u001b[0m \u001b[0;32mas\u001b[0m \u001b[0mtm\u001b[0m\u001b[0;34m:\u001b[0m\u001b[0;34m\u001b[0m\u001b[0;34m\u001b[0m\u001b[0m\n\u001b[0;32m--> 828\u001b[0;31m       \u001b[0mresult\u001b[0m \u001b[0;34m=\u001b[0m \u001b[0mself\u001b[0m\u001b[0;34m.\u001b[0m\u001b[0m_call\u001b[0m\u001b[0;34m(\u001b[0m\u001b[0;34m*\u001b[0m\u001b[0margs\u001b[0m\u001b[0;34m,\u001b[0m \u001b[0;34m**\u001b[0m\u001b[0mkwds\u001b[0m\u001b[0;34m)\u001b[0m\u001b[0;34m\u001b[0m\u001b[0;34m\u001b[0m\u001b[0m\n\u001b[0m\u001b[1;32m    829\u001b[0m       \u001b[0mcompiler\u001b[0m \u001b[0;34m=\u001b[0m \u001b[0;34m\"xla\"\u001b[0m \u001b[0;32mif\u001b[0m \u001b[0mself\u001b[0m\u001b[0;34m.\u001b[0m\u001b[0m_experimental_compile\u001b[0m \u001b[0;32melse\u001b[0m \u001b[0;34m\"nonXla\"\u001b[0m\u001b[0;34m\u001b[0m\u001b[0;34m\u001b[0m\u001b[0m\n\u001b[1;32m    830\u001b[0m       \u001b[0mnew_tracing_count\u001b[0m \u001b[0;34m=\u001b[0m \u001b[0mself\u001b[0m\u001b[0;34m.\u001b[0m\u001b[0mexperimental_get_tracing_count\u001b[0m\u001b[0;34m(\u001b[0m\u001b[0;34m)\u001b[0m\u001b[0;34m\u001b[0m\u001b[0;34m\u001b[0m\u001b[0m\n",
      "\u001b[0;32m~/opt/anaconda3/lib/python3.8/site-packages/tensorflow/python/eager/def_function.py\u001b[0m in \u001b[0;36m_call\u001b[0;34m(self, *args, **kwds)\u001b[0m\n\u001b[1;32m    860\u001b[0m       \u001b[0;31m# In this case we have not created variables on the first call. So we can\u001b[0m\u001b[0;34m\u001b[0m\u001b[0;34m\u001b[0m\u001b[0;34m\u001b[0m\u001b[0m\n\u001b[1;32m    861\u001b[0m       \u001b[0;31m# run the first trace but we should fail if variables are created.\u001b[0m\u001b[0;34m\u001b[0m\u001b[0;34m\u001b[0m\u001b[0;34m\u001b[0m\u001b[0m\n\u001b[0;32m--> 862\u001b[0;31m       \u001b[0mresults\u001b[0m \u001b[0;34m=\u001b[0m \u001b[0mself\u001b[0m\u001b[0;34m.\u001b[0m\u001b[0m_stateful_fn\u001b[0m\u001b[0;34m(\u001b[0m\u001b[0;34m*\u001b[0m\u001b[0margs\u001b[0m\u001b[0;34m,\u001b[0m \u001b[0;34m**\u001b[0m\u001b[0mkwds\u001b[0m\u001b[0;34m)\u001b[0m\u001b[0;34m\u001b[0m\u001b[0;34m\u001b[0m\u001b[0m\n\u001b[0m\u001b[1;32m    863\u001b[0m       \u001b[0;32mif\u001b[0m \u001b[0mself\u001b[0m\u001b[0;34m.\u001b[0m\u001b[0m_created_variables\u001b[0m\u001b[0;34m:\u001b[0m\u001b[0;34m\u001b[0m\u001b[0;34m\u001b[0m\u001b[0m\n\u001b[1;32m    864\u001b[0m         raise ValueError(\"Creating variables on a non-first call to a function\"\n",
      "\u001b[0;32m~/opt/anaconda3/lib/python3.8/site-packages/tensorflow/python/eager/function.py\u001b[0m in \u001b[0;36m__call__\u001b[0;34m(self, *args, **kwargs)\u001b[0m\n\u001b[1;32m   2940\u001b[0m       (graph_function,\n\u001b[1;32m   2941\u001b[0m        filtered_flat_args) = self._maybe_define_function(args, kwargs)\n\u001b[0;32m-> 2942\u001b[0;31m     return graph_function._call_flat(\n\u001b[0m\u001b[1;32m   2943\u001b[0m         filtered_flat_args, captured_inputs=graph_function.captured_inputs)  # pylint: disable=protected-access\n\u001b[1;32m   2944\u001b[0m \u001b[0;34m\u001b[0m\u001b[0m\n",
      "\u001b[0;32m~/opt/anaconda3/lib/python3.8/site-packages/tensorflow/python/eager/function.py\u001b[0m in \u001b[0;36m_call_flat\u001b[0;34m(self, args, captured_inputs, cancellation_manager)\u001b[0m\n\u001b[1;32m   1916\u001b[0m         and executing_eagerly):\n\u001b[1;32m   1917\u001b[0m       \u001b[0;31m# No tape is watching; skip to running the function.\u001b[0m\u001b[0;34m\u001b[0m\u001b[0;34m\u001b[0m\u001b[0;34m\u001b[0m\u001b[0m\n\u001b[0;32m-> 1918\u001b[0;31m       return self._build_call_outputs(self._inference_function.call(\n\u001b[0m\u001b[1;32m   1919\u001b[0m           ctx, args, cancellation_manager=cancellation_manager))\n\u001b[1;32m   1920\u001b[0m     forward_backward = self._select_forward_and_backward_functions(\n",
      "\u001b[0;32m~/opt/anaconda3/lib/python3.8/site-packages/tensorflow/python/eager/function.py\u001b[0m in \u001b[0;36mcall\u001b[0;34m(self, ctx, args, cancellation_manager)\u001b[0m\n\u001b[1;32m    553\u001b[0m       \u001b[0;32mwith\u001b[0m \u001b[0m_InterpolateFunctionError\u001b[0m\u001b[0;34m(\u001b[0m\u001b[0mself\u001b[0m\u001b[0;34m)\u001b[0m\u001b[0;34m:\u001b[0m\u001b[0;34m\u001b[0m\u001b[0;34m\u001b[0m\u001b[0m\n\u001b[1;32m    554\u001b[0m         \u001b[0;32mif\u001b[0m \u001b[0mcancellation_manager\u001b[0m \u001b[0;32mis\u001b[0m \u001b[0;32mNone\u001b[0m\u001b[0;34m:\u001b[0m\u001b[0;34m\u001b[0m\u001b[0;34m\u001b[0m\u001b[0m\n\u001b[0;32m--> 555\u001b[0;31m           outputs = execute.execute(\n\u001b[0m\u001b[1;32m    556\u001b[0m               \u001b[0mstr\u001b[0m\u001b[0;34m(\u001b[0m\u001b[0mself\u001b[0m\u001b[0;34m.\u001b[0m\u001b[0msignature\u001b[0m\u001b[0;34m.\u001b[0m\u001b[0mname\u001b[0m\u001b[0;34m)\u001b[0m\u001b[0;34m,\u001b[0m\u001b[0;34m\u001b[0m\u001b[0;34m\u001b[0m\u001b[0m\n\u001b[1;32m    557\u001b[0m               \u001b[0mnum_outputs\u001b[0m\u001b[0;34m=\u001b[0m\u001b[0mself\u001b[0m\u001b[0;34m.\u001b[0m\u001b[0m_num_outputs\u001b[0m\u001b[0;34m,\u001b[0m\u001b[0;34m\u001b[0m\u001b[0;34m\u001b[0m\u001b[0m\n",
      "\u001b[0;32m~/opt/anaconda3/lib/python3.8/site-packages/tensorflow/python/eager/execute.py\u001b[0m in \u001b[0;36mquick_execute\u001b[0;34m(op_name, num_outputs, inputs, attrs, ctx, name)\u001b[0m\n\u001b[1;32m     57\u001b[0m   \u001b[0;32mtry\u001b[0m\u001b[0;34m:\u001b[0m\u001b[0;34m\u001b[0m\u001b[0;34m\u001b[0m\u001b[0m\n\u001b[1;32m     58\u001b[0m     \u001b[0mctx\u001b[0m\u001b[0;34m.\u001b[0m\u001b[0mensure_initialized\u001b[0m\u001b[0;34m(\u001b[0m\u001b[0;34m)\u001b[0m\u001b[0;34m\u001b[0m\u001b[0;34m\u001b[0m\u001b[0m\n\u001b[0;32m---> 59\u001b[0;31m     tensors = pywrap_tfe.TFE_Py_Execute(ctx._handle, device_name, op_name,\n\u001b[0m\u001b[1;32m     60\u001b[0m                                         inputs, attrs, num_outputs)\n\u001b[1;32m     61\u001b[0m   \u001b[0;32mexcept\u001b[0m \u001b[0mcore\u001b[0m\u001b[0;34m.\u001b[0m\u001b[0m_NotOkStatusException\u001b[0m \u001b[0;32mas\u001b[0m \u001b[0me\u001b[0m\u001b[0;34m:\u001b[0m\u001b[0;34m\u001b[0m\u001b[0;34m\u001b[0m\u001b[0m\n",
      "\u001b[0;31mKeyboardInterrupt\u001b[0m: "
     ]
    }
   ],
   "source": [
    "dataset_iter = iter(dataset)\n",
    "\n",
    "for i in range(300):\n",
    "  losses = trainer.train_step(dataset_iter)\n",
    "  res_str = 'step: {}\\t'.format(i)\n",
    "  for k, v in losses.items():\n",
    "    res_str += '{}: {:.2f}\\t'.format(k, v)\n",
    "  print(res_str)"
   ]
  },
  {
   "cell_type": "code",
   "execution_count": 7,
   "metadata": {},
   "outputs": [],
   "source": [
    "!pip freeze > requirements.txt"
   ]
  },
  {
   "cell_type": "code",
   "execution_count": null,
   "metadata": {},
   "outputs": [],
   "source": []
  }
 ],
 "metadata": {
  "kernelspec": {
   "display_name": "Python 3",
   "language": "python",
   "name": "python3"
  },
  "language_info": {
   "codemirror_mode": {
    "name": "ipython",
    "version": 3
   },
   "file_extension": ".py",
   "mimetype": "text/x-python",
   "name": "python",
   "nbconvert_exporter": "python",
   "pygments_lexer": "ipython3",
   "version": "3.8.5"
  }
 },
 "nbformat": 4,
 "nbformat_minor": 5
}
